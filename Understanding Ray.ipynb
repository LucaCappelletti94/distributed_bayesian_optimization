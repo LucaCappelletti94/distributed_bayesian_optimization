{
 "cells": [
  {
   "cell_type": "code",
   "execution_count": 4,
   "metadata": {
    "scrolled": false
   },
   "outputs": [
    {
     "data": {
      "text/html": [
       "== Status ==<br>Memory usage on this node: 6.6/15.9 GiB<br>Using FIFO scheduling algorithm.<br>Resources requested: 1/8 CPUs, 0/0 GPUs, 0.0/5.96 GiB heap, 0.0/2.05 GiB objects<br>Result logdir: /home/luca/ray_results/my_func<br>Number of trials: 10 (9 PENDING, 1 RUNNING)<br><table>\n",
       "<thead>\n",
       "<tr><th>Trial name   </th><th>status  </th><th>loc  </th><th style=\"text-align: right;\">         x</th></tr>\n",
       "</thead>\n",
       "<tbody>\n",
       "<tr><td>my_func_00000</td><td>RUNNING </td><td>     </td><td style=\"text-align: right;\">15.8904   </td></tr>\n",
       "<tr><td>my_func_00001</td><td>PENDING </td><td>     </td><td style=\"text-align: right;\">19.7239   </td></tr>\n",
       "<tr><td>my_func_00002</td><td>PENDING </td><td>     </td><td style=\"text-align: right;\"> 0.982238 </td></tr>\n",
       "<tr><td>my_func_00003</td><td>PENDING </td><td>     </td><td style=\"text-align: right;\"> 0.922627 </td></tr>\n",
       "<tr><td>my_func_00004</td><td>PENDING </td><td>     </td><td style=\"text-align: right;\"> 6.37803  </td></tr>\n",
       "<tr><td>my_func_00005</td><td>PENDING </td><td>     </td><td style=\"text-align: right;\"> 0.0541164</td></tr>\n",
       "<tr><td>my_func_00006</td><td>PENDING </td><td>     </td><td style=\"text-align: right;\">18.6281   </td></tr>\n",
       "<tr><td>my_func_00007</td><td>PENDING </td><td>     </td><td style=\"text-align: right;\">12.5077   </td></tr>\n",
       "<tr><td>my_func_00008</td><td>PENDING </td><td>     </td><td style=\"text-align: right;\"> 0.43157  </td></tr>\n",
       "<tr><td>my_func_00009</td><td>PENDING </td><td>     </td><td style=\"text-align: right;\"> 5.42334  </td></tr>\n",
       "</tbody>\n",
       "</table><br><br>"
      ],
      "text/plain": [
       "<IPython.core.display.HTML object>"
      ]
     },
     "metadata": {},
     "output_type": "display_data"
    },
    {
     "name": "stdout",
     "output_type": "stream",
     "text": [
      "\u001b[2m\u001b[36m(pid=11704)\u001b[0m 2020-05-13 15:08:45,708\tINFO trainable.py:217 -- Getting current IP.\n",
      "\u001b[2m\u001b[36m(pid=11738)\u001b[0m 2020-05-13 15:08:45,650\tINFO trainable.py:217 -- Getting current IP.\n",
      "\u001b[2m\u001b[36m(pid=11640)\u001b[0m 2020-05-13 15:08:45,744\tINFO trainable.py:217 -- Getting current IP.\n",
      "\u001b[2m\u001b[36m(pid=11670)\u001b[0m 2020-05-13 15:08:45,861\tINFO trainable.py:217 -- Getting current IP.\n",
      "\u001b[2m\u001b[36m(pid=11636)\u001b[0m 2020-05-13 15:08:45,918\tINFO trainable.py:217 -- Getting current IP.\n",
      "\u001b[2m\u001b[36m(pid=11641)\u001b[0m 2020-05-13 15:08:45,959\tINFO trainable.py:217 -- Getting current IP.\n",
      "\u001b[2m\u001b[36m(pid=11642)\u001b[0m 2020-05-13 15:08:46,090\tINFO trainable.py:217 -- Getting current IP.\n",
      "\u001b[2m\u001b[33m(pid=raylet)\u001b[0m E0513 15:08:46.475616 10386 node_manager.cc:3537] Failed to send get core worker stats request: IOError: 14: Socket closed\n",
      "\u001b[2m\u001b[36m(pid=12335)\u001b[0m E0513 15:08:47.844063400   12335 socket_utils_common_posix.cc:208] check for SO_REUSEPORT: {\"created\":\"@1589375327.844037600\",\"description\":\"Protocol not available\",\"errno\":92,\"file\":\"external/com_github_grpc_grpc/src/core/lib/iomgr/socket_utils_common_posix.cc\",\"file_line\":185,\"os_error\":\"Protocol not available\",\"syscall\":\"getsockopt(SO_REUSEPORT)\"}\n",
      "\u001b[2m\u001b[36m(pid=12335)\u001b[0m E0513 15:08:47.844328100   12335 socket_utils_common_posix.cc:313] setsockopt(TCP_USER_TIMEOUT) Protocol not available\n",
      "\u001b[2m\u001b[36m(pid=12376)\u001b[0m E0513 15:08:49.191584600   12376 socket_utils_common_posix.cc:208] check for SO_REUSEPORT: {\"created\":\"@1589375329.191548500\",\"description\":\"Protocol not available\",\"errno\":92,\"file\":\"external/com_github_grpc_grpc/src/core/lib/iomgr/socket_utils_common_posix.cc\",\"file_line\":185,\"os_error\":\"Protocol not available\",\"syscall\":\"getsockopt(SO_REUSEPORT)\"}\n",
      "\u001b[2m\u001b[36m(pid=12376)\u001b[0m E0513 15:08:49.191854700   12376 socket_utils_common_posix.cc:313] setsockopt(TCP_USER_TIMEOUT) Protocol not available\n",
      "\u001b[2m\u001b[36m(pid=12374)\u001b[0m E0513 15:08:49.277309700   12374 socket_utils_common_posix.cc:208] check for SO_REUSEPORT: {\"created\":\"@1589375329.277291800\",\"description\":\"Protocol not available\",\"errno\":92,\"file\":\"external/com_github_grpc_grpc/src/core/lib/iomgr/socket_utils_common_posix.cc\",\"file_line\":185,\"os_error\":\"Protocol not available\",\"syscall\":\"getsockopt(SO_REUSEPORT)\"}\n",
      "\u001b[2m\u001b[36m(pid=12374)\u001b[0m E0513 15:08:49.277557000   12374 socket_utils_common_posix.cc:313] setsockopt(TCP_USER_TIMEOUT) Protocol not available\n",
      "\u001b[2m\u001b[36m(pid=12377)\u001b[0m E0513 15:08:49.274698200   12377 socket_utils_common_posix.cc:208] check for SO_REUSEPORT: {\"created\":\"@1589375329.274680800\",\"description\":\"Protocol not available\",\"errno\":92,\"file\":\"external/com_github_grpc_grpc/src/core/lib/iomgr/socket_utils_common_posix.cc\",\"file_line\":185,\"os_error\":\"Protocol not available\",\"syscall\":\"getsockopt(SO_REUSEPORT)\"}\n",
      "\u001b[2m\u001b[36m(pid=12377)\u001b[0m E0513 15:08:49.274957100   12377 socket_utils_common_posix.cc:313] setsockopt(TCP_USER_TIMEOUT) Protocol not available\n",
      "\u001b[2m\u001b[36m(pid=12383)\u001b[0m E0513 15:08:49.333573400   12383 socket_utils_common_posix.cc:208] check for SO_REUSEPORT: {\"created\":\"@1589375329.333521800\",\"description\":\"Protocol not available\",\"errno\":92,\"file\":\"external/com_github_grpc_grpc/src/core/lib/iomgr/socket_utils_common_posix.cc\",\"file_line\":185,\"os_error\":\"Protocol not available\",\"syscall\":\"getsockopt(SO_REUSEPORT)\"}\n",
      "\u001b[2m\u001b[36m(pid=12383)\u001b[0m E0513 15:08:49.333869200   12383 socket_utils_common_posix.cc:313] setsockopt(TCP_USER_TIMEOUT) Protocol not available\n",
      "\u001b[2m\u001b[36m(pid=12389)\u001b[0m E0513 15:08:49.369176300   12389 socket_utils_common_posix.cc:208] check for SO_REUSEPORT: {\"created\":\"@1589375329.369153700\",\"description\":\"Protocol not available\",\"errno\":92,\"file\":\"external/com_github_grpc_grpc/src/core/lib/iomgr/socket_utils_common_posix.cc\",\"file_line\":185,\"os_error\":\"Protocol not available\",\"syscall\":\"getsockopt(SO_REUSEPORT)\"}\n",
      "\u001b[2m\u001b[36m(pid=12389)\u001b[0m E0513 15:08:49.369543100   12389 socket_utils_common_posix.cc:313] setsockopt(TCP_USER_TIMEOUT) Protocol not available\n",
      "\u001b[2m\u001b[36m(pid=12385)\u001b[0m E0513 15:08:49.428964400   12385 socket_utils_common_posix.cc:208] check for SO_REUSEPORT: {\"created\":\"@1589375329.428929000\",\"description\":\"Protocol not available\",\"errno\":92,\"file\":\"external/com_github_grpc_grpc/src/core/lib/iomgr/socket_utils_common_posix.cc\",\"file_line\":185,\"os_error\":\"Protocol not available\",\"syscall\":\"getsockopt(SO_REUSEPORT)\"}\n",
      "\u001b[2m\u001b[36m(pid=12385)\u001b[0m E0513 15:08:49.429226400   12385 socket_utils_common_posix.cc:313] setsockopt(TCP_USER_TIMEOUT) Protocol not available\n",
      "\u001b[2m\u001b[36m(pid=12386)\u001b[0m E0513 15:08:49.488118000   12386 socket_utils_common_posix.cc:208] check for SO_REUSEPORT: {\"created\":\"@1589375329.488100100\",\"description\":\"Protocol not available\",\"errno\":92,\"file\":\"external/com_github_grpc_grpc/src/core/lib/iomgr/socket_utils_common_posix.cc\",\"file_line\":185,\"os_error\":\"Protocol not available\",\"syscall\":\"getsockopt(SO_REUSEPORT)\"}\n",
      "\u001b[2m\u001b[36m(pid=12386)\u001b[0m E0513 15:08:49.488403000   12386 socket_utils_common_posix.cc:313] setsockopt(TCP_USER_TIMEOUT) Protocol not available\n",
      "\u001b[2m\u001b[36m(pid=12335)\u001b[0m 2020-05-13 15:08:50,281\tINFO trainable.py:217 -- Getting current IP.\n"
     ]
    },
    {
     "data": {
      "text/html": [
       "== Status ==<br>Memory usage on this node: 6.8/15.9 GiB<br>Using FIFO scheduling algorithm.<br>Resources requested: 2/8 CPUs, 0/0 GPUs, 0.0/5.96 GiB heap, 0.0/2.05 GiB objects<br>Result logdir: /home/luca/ray_results/my_func<br>Number of trials: 10 (2 RUNNING, 8 TERMINATED)<br><table>\n",
       "<thead>\n",
       "<tr><th>Trial name   </th><th>status    </th><th>loc  </th><th style=\"text-align: right;\">         x</th></tr>\n",
       "</thead>\n",
       "<tbody>\n",
       "<tr><td>my_func_00000</td><td>TERMINATED</td><td>     </td><td style=\"text-align: right;\">15.8904   </td></tr>\n",
       "<tr><td>my_func_00001</td><td>TERMINATED</td><td>     </td><td style=\"text-align: right;\">19.7239   </td></tr>\n",
       "<tr><td>my_func_00002</td><td>TERMINATED</td><td>     </td><td style=\"text-align: right;\"> 0.982238 </td></tr>\n",
       "<tr><td>my_func_00003</td><td>TERMINATED</td><td>     </td><td style=\"text-align: right;\"> 0.922627 </td></tr>\n",
       "<tr><td>my_func_00004</td><td>TERMINATED</td><td>     </td><td style=\"text-align: right;\"> 6.37803  </td></tr>\n",
       "<tr><td>my_func_00005</td><td>TERMINATED</td><td>     </td><td style=\"text-align: right;\"> 0.0541164</td></tr>\n",
       "<tr><td>my_func_00006</td><td>TERMINATED</td><td>     </td><td style=\"text-align: right;\">18.6281   </td></tr>\n",
       "<tr><td>my_func_00007</td><td>TERMINATED</td><td>     </td><td style=\"text-align: right;\">12.5077   </td></tr>\n",
       "<tr><td>my_func_00008</td><td>RUNNING   </td><td>     </td><td style=\"text-align: right;\"> 0.43157  </td></tr>\n",
       "<tr><td>my_func_00009</td><td>RUNNING   </td><td>     </td><td style=\"text-align: right;\"> 5.42334  </td></tr>\n",
       "</tbody>\n",
       "</table><br><br>"
      ],
      "text/plain": [
       "<IPython.core.display.HTML object>"
      ]
     },
     "metadata": {},
     "output_type": "display_data"
    },
    {
     "name": "stdout",
     "output_type": "stream",
     "text": [
      "\u001b[2m\u001b[36m(pid=12432)\u001b[0m E0513 15:08:50.451291200   12432 socket_utils_common_posix.cc:208] check for SO_REUSEPORT: {\"created\":\"@1589375330.451259600\",\"description\":\"Protocol not available\",\"errno\":92,\"file\":\"external/com_github_grpc_grpc/src/core/lib/iomgr/socket_utils_common_posix.cc\",\"file_line\":185,\"os_error\":\"Protocol not available\",\"syscall\":\"getsockopt(SO_REUSEPORT)\"}\n",
      "\u001b[2m\u001b[36m(pid=12432)\u001b[0m E0513 15:08:50.451560500   12432 socket_utils_common_posix.cc:313] setsockopt(TCP_USER_TIMEOUT) Protocol not available\n",
      "\u001b[2m\u001b[36m(pid=12374)\u001b[0m 2020-05-13 15:08:51,220\tINFO trainable.py:217 -- Getting current IP.\n",
      "\u001b[2m\u001b[36m(pid=12376)\u001b[0m 2020-05-13 15:08:51,206\tINFO trainable.py:217 -- Getting current IP.\n"
     ]
    },
    {
     "data": {
      "text/html": [
       "== Status ==<br>Memory usage on this node: 6.8/15.9 GiB<br>Using FIFO scheduling algorithm.<br>Resources requested: 0/8 CPUs, 0/0 GPUs, 0.0/5.96 GiB heap, 0.0/2.05 GiB objects<br>Result logdir: /home/luca/ray_results/my_func<br>Number of trials: 10 (10 TERMINATED)<br><table>\n",
       "<thead>\n",
       "<tr><th>Trial name   </th><th>status    </th><th>loc  </th><th style=\"text-align: right;\">         x</th></tr>\n",
       "</thead>\n",
       "<tbody>\n",
       "<tr><td>my_func_00000</td><td>TERMINATED</td><td>     </td><td style=\"text-align: right;\">15.8904   </td></tr>\n",
       "<tr><td>my_func_00001</td><td>TERMINATED</td><td>     </td><td style=\"text-align: right;\">19.7239   </td></tr>\n",
       "<tr><td>my_func_00002</td><td>TERMINATED</td><td>     </td><td style=\"text-align: right;\"> 0.982238 </td></tr>\n",
       "<tr><td>my_func_00003</td><td>TERMINATED</td><td>     </td><td style=\"text-align: right;\"> 0.922627 </td></tr>\n",
       "<tr><td>my_func_00004</td><td>TERMINATED</td><td>     </td><td style=\"text-align: right;\"> 6.37803  </td></tr>\n",
       "<tr><td>my_func_00005</td><td>TERMINATED</td><td>     </td><td style=\"text-align: right;\"> 0.0541164</td></tr>\n",
       "<tr><td>my_func_00006</td><td>TERMINATED</td><td>     </td><td style=\"text-align: right;\">18.6281   </td></tr>\n",
       "<tr><td>my_func_00007</td><td>TERMINATED</td><td>     </td><td style=\"text-align: right;\">12.5077   </td></tr>\n",
       "<tr><td>my_func_00008</td><td>TERMINATED</td><td>     </td><td style=\"text-align: right;\"> 0.43157  </td></tr>\n",
       "<tr><td>my_func_00009</td><td>TERMINATED</td><td>     </td><td style=\"text-align: right;\"> 5.42334  </td></tr>\n",
       "</tbody>\n",
       "</table><br><br>"
      ],
      "text/plain": [
       "<IPython.core.display.HTML object>"
      ]
     },
     "metadata": {},
     "output_type": "display_data"
    }
   ],
   "source": [
    "from ray import tune\n",
    "from ray.tune.suggest import BasicVariantGenerator\n",
    "\n",
    "\n",
    "def my_func(config):\n",
    "    return config[\"x\"]**2\n",
    "\n",
    "analysis = tune.run(\n",
    "    my_func,\n",
    "    num_samples=10,\n",
    "    resources_per_trial={\"cpu\":1, \"gpu\":0},\n",
    "    config={\n",
    "        \"x\": tune.uniform(0, 20),\n",
    "    }\n",
    ")\n"
   ]
  },
  {
   "cell_type": "code",
   "execution_count": 6,
   "metadata": {},
   "outputs": [
    {
     "ename": "TypeError",
     "evalue": "get_best_config() missing 1 required positional argument: 'metric'",
     "output_type": "error",
     "traceback": [
      "\u001b[0;31m---------------------------------------------------------------------------\u001b[0m",
      "\u001b[0;31mTypeError\u001b[0m                                 Traceback (most recent call last)",
      "\u001b[0;32m<ipython-input-6-c64b47228724>\u001b[0m in \u001b[0;36m<module>\u001b[0;34m\u001b[0m\n\u001b[0;32m----> 1\u001b[0;31m \u001b[0manalysis\u001b[0m\u001b[0;34m.\u001b[0m\u001b[0mget_best_config\u001b[0m\u001b[0;34m(\u001b[0m\u001b[0;34m)\u001b[0m\u001b[0;34m\u001b[0m\u001b[0;34m\u001b[0m\u001b[0m\n\u001b[0m",
      "\u001b[0;31mTypeError\u001b[0m: get_best_config() missing 1 required positional argument: 'metric'"
     ]
    }
   ],
   "source": [
    "analysis.get_best_config(metric=[])"
   ]
  },
  {
   "cell_type": "code",
   "execution_count": null,
   "metadata": {},
   "outputs": [],
   "source": []
  }
 ],
 "metadata": {
  "kernelspec": {
   "display_name": "Python 3",
   "language": "python",
   "name": "python3"
  },
  "language_info": {
   "codemirror_mode": {
    "name": "ipython",
    "version": 3
   },
   "file_extension": ".py",
   "mimetype": "text/x-python",
   "name": "python",
   "nbconvert_exporter": "python",
   "pygments_lexer": "ipython3",
   "version": "3.7.4"
  }
 },
 "nbformat": 4,
 "nbformat_minor": 2
}
